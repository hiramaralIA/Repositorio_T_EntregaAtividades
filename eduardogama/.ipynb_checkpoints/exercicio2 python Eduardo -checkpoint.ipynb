{
 "cells": [
  {
   "cell_type": "code",
   "execution_count": 5,
   "id": "e324601f",
   "metadata": {},
   "outputs": [
    {
     "name": "stdout",
     "output_type": "stream",
     "text": [
      "a==b? False\n",
      "b>a? True\n",
      "a<b? True\n",
      "a==d? True\n",
      "b>=a? True\n",
      "c<=b? True\n",
      "d!=a? False\n",
      "d!=b? True\n"
     ]
    }
   ],
   "source": [
    "#Exercício 5.23\n",
    "a=1\n",
    "b=5\n",
    "c=2\n",
    "d=1\n",
    "print(\"a==b?\",a==b)\n",
    "print(\"b>a?\",b>a)\n",
    "print(\"a<b?\",a<b)\n",
    "print(\"a==d?\",a==d)\n",
    "print(\"b>=a?\",b>=a)\n",
    "print(\"c<=b?\",c<=b)\n",
    "print(\"d!=a?\",d!=a)\n",
    "print(\"d!=b?\",d!=b)"
   ]
  },
  {
   "cell_type": "code",
   "execution_count": 1,
   "id": "79f44446",
   "metadata": {},
   "outputs": [
    {
     "name": "stdout",
     "output_type": "stream",
     "text": [
      "maior de idade? False\n"
     ]
    }
   ],
   "source": [
    "#exercicio 5.24\n",
    "idade=16\n",
    "print(\"maior de idade?\",idade>=18)"
   ]
  },
  {
   "cell_type": "code",
   "execution_count": 17,
   "id": "ead41d27",
   "metadata": {},
   "outputs": [
    {
     "name": "stdout",
     "output_type": "stream",
     "text": [
      "aprovado? True\n"
     ]
    }
   ],
   "source": [
    "#exercicio 5.25\n",
    "n1=6\n",
    "n2=5\n",
    "n3=8\n",
    "n4=9\n",
    "print(\"aprovado?\",(n1+n2+n3+n4)/4>=6)"
   ]
  },
  {
   "cell_type": "code",
   "execution_count": 18,
   "id": "7b5c1d48",
   "metadata": {},
   "outputs": [
    {
     "name": "stdout",
     "output_type": "stream",
     "text": [
      "carro economico? False\n"
     ]
    }
   ],
   "source": [
    "#exercicio 5.26\n",
    "distancia=100\n",
    "gasolina=50\n",
    "print(\"carro economico?\",distancia/gasolina>=18)"
   ]
  },
  {
   "cell_type": "code",
   "execution_count": 12,
   "id": "6f1f37ca",
   "metadata": {},
   "outputs": [
    {
     "name": "stdout",
     "output_type": "stream",
     "text": [
      "o numero é impar? False\n"
     ]
    }
   ],
   "source": [
    "#exercicio 5.27 \n",
    "numero=8\n",
    "resto=numero%2\n",
    "print(\"o numero é impar?\",resto != 0)"
   ]
  },
  {
   "cell_type": "code",
   "execution_count": 9,
   "id": "a0373330",
   "metadata": {},
   "outputs": [
    {
     "name": "stdout",
     "output_type": "stream",
     "text": [
      "o numero é impar? True\n"
     ]
    }
   ],
   "source": [
    "#exercicio 5.28\n",
    "numero=9\n",
    "resto=numero%2\n",
    "print(\"o numero é impar?\",resto!=2)"
   ]
  },
  {
   "cell_type": "code",
   "execution_count": 22,
   "id": "a20b2aa9",
   "metadata": {},
   "outputs": [
    {
     "name": "stdout",
     "output_type": "stream",
     "text": [
      "paga imposto? False\n"
     ]
    }
   ],
   "source": [
    "#exercicio 5.28\n",
    "salário=1100\n",
    "print(\"paga imposto?\",salário>1200)"
   ]
  },
  {
   "cell_type": "code",
   "execution_count": null,
   "id": "0a994dc3",
   "metadata": {},
   "outputs": [],
   "source": [
    "#exercicio 5.29"
   ]
  },
  {
   "cell_type": "code",
   "execution_count": 23,
   "id": "eb43f87b",
   "metadata": {},
   "outputs": [
    {
     "name": "stdout",
     "output_type": "stream",
     "text": [
      "foi aprovado? False\n"
     ]
    }
   ],
   "source": [
    "#exercicio 5.30\n",
    "matéria1=8\n",
    "matéria2=6\n",
    "matéria3=5\n",
    "print('foi aprovado?',(matéria1+matéria2+matéria3)/3>7)"
   ]
  },
  {
   "cell_type": "code",
   "execution_count": null,
   "id": "881c0bcd",
   "metadata": {},
   "outputs": [],
   "source": []
  }
 ],
 "metadata": {
  "kernelspec": {
   "display_name": "Python 3 (ipykernel)",
   "language": "python",
   "name": "python3"
  },
  "language_info": {
   "codemirror_mode": {
    "name": "ipython",
    "version": 3
   },
   "file_extension": ".py",
   "mimetype": "text/x-python",
   "name": "python",
   "nbconvert_exporter": "python",
   "pygments_lexer": "ipython3",
   "version": "3.9.7"
  }
 },
 "nbformat": 4,
 "nbformat_minor": 5
}
