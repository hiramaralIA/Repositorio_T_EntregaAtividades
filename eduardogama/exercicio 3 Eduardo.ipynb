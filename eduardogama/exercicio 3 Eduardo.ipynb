{
 "cells": [
  {
   "cell_type": "code",
   "execution_count": 1,
   "id": "67285433",
   "metadata": {},
   "outputs": [
    {
     "name": "stdout",
     "output_type": "stream",
     "text": [
      "11\n"
     ]
    }
   ],
   "source": [
    "#exercicio 5.31\n",
    "numero1=5\n",
    "numero2=6\n",
    "print(numero1+numero2)"
   ]
  },
  {
   "cell_type": "code",
   "execution_count": 3,
   "id": "01284e8d",
   "metadata": {},
   "outputs": [
    {
     "name": "stdout",
     "output_type": "stream",
     "text": [
      "85000 mm\n"
     ]
    }
   ],
   "source": [
    "#exercicio 5.32\n",
    "metro=85\n",
    "print(metro*1000,\"mm\")"
   ]
  },
  {
   "cell_type": "code",
   "execution_count": null,
   "id": "9a2913a1",
   "metadata": {},
   "outputs": [],
   "source": [
    "#exercicio 5.33\n",
    "dias=3\n",
    "horas=5\n",
    "minutos=27\n",
    "segundos=45\n"
   ]
  },
  {
   "cell_type": "code",
   "execution_count": 10,
   "id": "328c8b95",
   "metadata": {},
   "outputs": [
    {
     "name": "stdout",
     "output_type": "stream",
     "text": [
      "aumento: R$ 125.0\n",
      "novo salario: R$ 1375.0\n"
     ]
    }
   ],
   "source": [
    "#exercicio 5.34\n",
    "salario=1250\n",
    "aumento=10/100\n",
    "print(\"aumento: R$\",salario*aumento)\n",
    "print(\"novo salario: R$\",salário+salario*aumento)"
   ]
  },
  {
   "cell_type": "code",
   "execution_count": 12,
   "id": "a44743c1",
   "metadata": {},
   "outputs": [
    {
     "name": "stdout",
     "output_type": "stream",
     "text": [
      "desconto: R$ 57.8925\n",
      "valor com desconto: R$ 328.0575\n"
     ]
    }
   ],
   "source": [
    "#exercicio 5.35\n",
    "preço=385.95\n",
    "desconto=15/100\n",
    "print(\"desconto: R$\",preço*desconto)\n",
    "print(\"valor com desconto: R$\",preço-preço*desconto)\n"
   ]
  },
  {
   "cell_type": "code",
   "execution_count": null,
   "id": "0cdfa2f7",
   "metadata": {},
   "outputs": [],
   "source": [
    "#exercicio 5.36\n",
    "distancia=\n",
    "velocidade=\n"
   ]
  }
 ],
 "metadata": {
  "kernelspec": {
   "display_name": "Python 3 (ipykernel)",
   "language": "python",
   "name": "python3"
  },
  "language_info": {
   "codemirror_mode": {
    "name": "ipython",
    "version": 3
   },
   "file_extension": ".py",
   "mimetype": "text/x-python",
   "name": "python",
   "nbconvert_exporter": "python",
   "pygments_lexer": "ipython3",
   "version": "3.9.7"
  }
 },
 "nbformat": 4,
 "nbformat_minor": 5
}
