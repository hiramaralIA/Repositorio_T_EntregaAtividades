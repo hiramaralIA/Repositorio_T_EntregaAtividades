{
 "cells": [
  {
   "cell_type": "code",
   "execution_count": null,
   "id": "70b02479",
   "metadata": {},
   "outputs": [],
   "source": [
    "#exercicio 28 folha de pagamento\n",
    "salario1= 1212.00\n",
    "salarioa=3*salario1\n",
    "salariob=10*salario1\n",
    "salarioc=20*salario1\n",
    "salariod=21*salario1\n",
    "funcionario=\"João\"\n",
    "salariof=1500.00\n",
    "a=50/100\n",
    "b=20/100\n",
    "c=15/100\n",
    "d=10/100\n",
    "print(salariof)\n",
    "\n"
   ]
  }
 ],
 "metadata": {
  "kernelspec": {
   "display_name": "Python 3 (ipykernel)",
   "language": "python",
   "name": "python3"
  },
  "language_info": {
   "codemirror_mode": {
    "name": "ipython",
    "version": 3
   },
   "file_extension": ".py",
   "mimetype": "text/x-python",
   "name": "python",
   "nbconvert_exporter": "python",
   "pygments_lexer": "ipython3",
   "version": "3.9.7"
  }
 },
 "nbformat": 4,
 "nbformat_minor": 5
}
