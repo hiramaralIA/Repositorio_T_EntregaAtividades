{
 "cells": [
  {
   "cell_type": "code",
   "execution_count": 12,
   "id": "60a61dfb",
   "metadata": {},
   "outputs": [
    {
     "name": "stdout",
     "output_type": "stream",
     "text": [
      "610\n",
      "0.5333333333333333\n",
      "575\n",
      "107\n"
     ]
    }
   ],
   "source": [
    "#exercicio 5.1\n",
    "print(10 + 20 *30)\n",
    "print(4**2/30)\n",
    "print((94 + 2)*6-1)\n",
    "print(((10+8)*(10-4)) - 1)"
   ]
  },
  {
   "cell_type": "code",
   "execution_count": 14,
   "id": "a9b7061d",
   "metadata": {
    "scrolled": true
   },
   "outputs": [
    {
     "data": {
      "text/plain": [
       "11.000000000000004"
      ]
     },
     "execution_count": 14,
     "metadata": {},
     "output_type": "execute_result"
    }
   ],
   "source": [
    "#exercicio 5.2\n",
    "10/100*3*10**2+1-10*4/2"
   ]
  },
  {
   "cell_type": "code",
   "execution_count": 8,
   "id": "b185bcf8",
   "metadata": {},
   "outputs": [
    {
     "name": "stdout",
     "output_type": "stream",
     "text": [
      "Eduardo\n"
     ]
    }
   ],
   "source": [
    "#exercicio 5.3\n",
    "nome=\"Eduardo\"\n",
    "print(nome)"
   ]
  },
  {
   "cell_type": "code",
   "execution_count": 6,
   "id": "ca3d5373",
   "metadata": {},
   "outputs": [
    {
     "name": "stdout",
     "output_type": "stream",
     "text": [
      "90\n"
     ]
    }
   ],
   "source": [
    "#exercicio 5.4\n",
    "a=3\n",
    "b=5\n",
    "print(2*a*3*b)"
   ]
  },
  {
   "cell_type": "code",
   "execution_count": 4,
   "id": "a4167cd4",
   "metadata": {},
   "outputs": [
    {
     "name": "stdout",
     "output_type": "stream",
     "text": [
      "9\n"
     ]
    }
   ],
   "source": [
    "#exercicio 5.5\n",
    "a=2\n",
    "b=3\n",
    "c=4\n",
    "print(a+b+c)"
   ]
  },
  {
   "cell_type": "code",
   "execution_count": 1,
   "id": "8975f41c",
   "metadata": {},
   "outputs": [
    {
     "name": "stdout",
     "output_type": "stream",
     "text": [
      "R$ 862.5\n"
     ]
    }
   ],
   "source": [
    "#exercicio 5.6\n",
    "salario=750\n",
    "aumento=15\n",
    "print(\"R$\",salario + (salario*aumento/100))"
   ]
  },
  {
   "cell_type": "code",
   "execution_count": 2,
   "id": "84ef176e",
   "metadata": {},
   "outputs": [
    {
     "name": "stdout",
     "output_type": "stream",
     "text": [
      "10000 cm\n"
     ]
    }
   ],
   "source": [
    "#exercicio 5.7\n",
    "metro=100\n",
    "print(metro*100,\"cm\")"
   ]
  },
  {
   "cell_type": "code",
   "execution_count": 10,
   "id": "75fd8ba6",
   "metadata": {},
   "outputs": [
    {
     "name": "stdout",
     "output_type": "stream",
     "text": [
      "2 x 1 = 2\n",
      "2 x 2 = 4\n",
      "2 x 3 = 6\n",
      "2 x 4 = 8\n",
      "2 x 5 = 10\n",
      "2 x 6 = 12\n",
      "2 x 7 = 14\n",
      "2 x 8 = 16\n",
      "2 x 9 = 18\n",
      "2 x 10 = 20\n"
     ]
    }
   ],
   "source": [
    "#exercicio 5.8\n",
    "numero=2\n",
    "print(numero,\"x 1 =\",numero*1)\n",
    "print(numero,\"x 2 =\",numero*2)\n",
    "print(numero,\"x 3 =\",numero*3)\n",
    "print(numero,\"x 4 =\",numero*4)\n",
    "print(numero,\"x 5 =\",numero*5)\n",
    "print(numero,\"x 6 =\",numero*6)\n",
    "print(numero,\"x 7 =\",numero*7)\n",
    "print(numero,\"x 8 =\",numero*8)\n",
    "print(numero,\"x 9 =\",numero*9)\n",
    "print(numero,\"x 10 =\",numero*10)"
   ]
  },
  {
   "cell_type": "code",
   "execution_count": 1,
   "id": "47d45a26",
   "metadata": {},
   "outputs": [
    {
     "name": "stdout",
     "output_type": "stream",
     "text": [
      "media 6.0\n"
     ]
    }
   ],
   "source": [
    "#exercicio 5.9\n",
    "n1=3\n",
    "n2=9\n",
    "print(\"media\",(n1+n2)/2)"
   ]
  },
  {
   "cell_type": "code",
   "execution_count": 3,
   "id": "b37d6a0b",
   "metadata": {},
   "outputs": [
    {
     "name": "stdout",
     "output_type": "stream",
     "text": [
      "reajuste 15% > R$ 1150.0\n",
      "reajuste 10% > R$ 1100.0\n",
      "reajuste 5% > R$ 1050.0\n"
     ]
    }
   ],
   "source": [
    "#exercicio 5.10\n",
    "salario=1000\n",
    "r1=15\n",
    "r2=10\n",
    "r3=5\n",
    "print(\"reajuste 15% > R$\",salario + (salario*r1/100))\n",
    "print(\"reajuste 10% > R$\",salario + (salario*r2/100))\n",
    "print(\"reajuste 5% > R$\",salario + (salario*r3/100))"
   ]
  },
  {
   "cell_type": "code",
   "execution_count": 14,
   "id": "85c7ffc1",
   "metadata": {},
   "outputs": [
    {
     "name": "stdout",
     "output_type": "stream",
     "text": [
      "14\n"
     ]
    }
   ],
   "source": [
    "#exercicio 5.11\n",
    "a=8\n",
    "b=6\n",
    "print(a+b)"
   ]
  },
  {
   "cell_type": "code",
   "execution_count": 15,
   "id": "99b97c8d",
   "metadata": {},
   "outputs": [
    {
     "name": "stdout",
     "output_type": "stream",
     "text": [
      "15\n",
      "-5\n",
      "50\n",
      "0.5\n"
     ]
    }
   ],
   "source": [
    "#exercicio 5.12\n",
    "a=5\n",
    "b=10\n",
    "print(a+b)\n",
    "print(a-b)\n",
    "print(a*b)\n",
    "print(a/b)"
   ]
  },
  {
   "cell_type": "code",
   "execution_count": 14,
   "id": "a6e56c56",
   "metadata": {},
   "outputs": [
    {
     "name": "stdout",
     "output_type": "stream",
     "text": [
      "1.07 km/l\n"
     ]
    }
   ],
   "source": [
    "#exercicio 5.13\n",
    "distancia=107\n",
    "gasolina=100\n",
    "print(distancia/gasolina,\"km/l\")"
   ]
  },
  {
   "cell_type": "code",
   "execution_count": 4,
   "id": "a3026200",
   "metadata": {},
   "outputs": [
    {
     "name": "stdout",
     "output_type": "stream",
     "text": [
      "joão\n",
      "R$ 1000\n",
      "R$ 1075.0\n"
     ]
    }
   ],
   "source": [
    "#exercicio 5.14\n",
    "nome=\"joão\"\n",
    "salario=1000\n",
    "vendas=500\n",
    "print(nome)\n",
    "print(\"R$\",salario)\n",
    "print(\"R$\",salario+(vendas*15)/100)"
   ]
  },
  {
   "cell_type": "code",
   "execution_count": 9,
   "id": "dc6d40af",
   "metadata": {},
   "outputs": [
    {
     "name": "stdout",
     "output_type": "stream",
     "text": [
      "Maria\n",
      "nota: 7.666666666666667\n"
     ]
    }
   ],
   "source": [
    "#exercicio 5.15\n",
    "nome=\"Maria\"\n",
    "n1=6\n",
    "n2=8\n",
    "n3=9\n",
    "print(nome)\n",
    "print(\"nota:\",(n1+n2+n3)/3)"
   ]
  },
  {
   "cell_type": "code",
   "execution_count": 5,
   "id": "28554033",
   "metadata": {},
   "outputs": [
    {
     "name": "stdout",
     "output_type": "stream",
     "text": [
      "8\n",
      "9\n"
     ]
    }
   ],
   "source": [
    "#exercicio 5.16\n",
    "a=9\n",
    "b=8\n",
    "c=0\n",
    "\n",
    "c=a\n",
    "a=b\n",
    "b=c\n",
    "print(a)\n",
    "print(b)\n"
   ]
  },
  {
   "cell_type": "code",
   "execution_count": 17,
   "id": "e65cb443",
   "metadata": {},
   "outputs": [
    {
     "name": "stdout",
     "output_type": "stream",
     "text": [
      "104.0 °F\n"
     ]
    }
   ],
   "source": [
    "#exercicio 5.17\n",
    "c=40\n",
    "print((9*c+160)/5,\"°F\")"
   ]
  },
  {
   "cell_type": "code",
   "execution_count": 16,
   "id": "001cc1d1",
   "metadata": {},
   "outputs": [
    {
     "name": "stdout",
     "output_type": "stream",
     "text": [
      "US$ 4.65\n",
      "R$ 6.451612903225806\n"
     ]
    }
   ],
   "source": [
    "#exercicio 5.18\n",
    "dolar=4.65\n",
    "real=30\n",
    "print(\"US$\",dolar)\n",
    "print(\"R$\",real/dolar)"
   ]
  },
  {
   "cell_type": "code",
   "execution_count": 19,
   "id": "04ac7487",
   "metadata": {},
   "outputs": [
    {
     "name": "stdout",
     "output_type": "stream",
     "text": [
      "R$ 503.5\n"
     ]
    }
   ],
   "source": [
    "#exercicio 5.19\n",
    "valor=500\n",
    "print(\"R$\",valor+(valor*0.7)/100)\n"
   ]
  },
  {
   "cell_type": "code",
   "execution_count": 20,
   "id": "f2a13314",
   "metadata": {},
   "outputs": [
    {
     "name": "stdout",
     "output_type": "stream",
     "text": [
      "R$ 120.0\n"
     ]
    }
   ],
   "source": [
    "#exercicio 5.20\n",
    "valor=600\n",
    "print(\"R$\",valor/5)"
   ]
  },
  {
   "cell_type": "code",
   "execution_count": 6,
   "id": "e6c952f2",
   "metadata": {},
   "outputs": [
    {
     "name": "stdout",
     "output_type": "stream",
     "text": [
      "valor com acrescimo: R$ 463.5\n"
     ]
    }
   ],
   "source": [
    "#exercicio 5.21\n",
    "preço=450\n",
    "print(\"valor com acrescimo:\",\"R$\",preço+preço*3/100)"
   ]
  },
  {
   "cell_type": "code",
   "execution_count": 7,
   "id": "0e9b0131",
   "metadata": {},
   "outputs": [
    {
     "name": "stdout",
     "output_type": "stream",
     "text": [
      "custo de fábrica: R$ 15000\n",
      "custo total: R$ 27840.0\n"
     ]
    }
   ],
   "source": [
    "#exercicio 5.22\n",
    "custo=15000\n",
    "percentagem=28\n",
    "impostos=45\n",
    "print(\"custo de fábrica:\",\"R$\",custo)\n",
    "print(\"custo total:\",\"R$\",custo+custo*45/100+(custo+custo*45/100)*28/100)"
   ]
  },
  {
   "cell_type": "code",
   "execution_count": null,
   "id": "14321d00",
   "metadata": {},
   "outputs": [],
   "source": []
  }
 ],
 "metadata": {
  "kernelspec": {
   "display_name": "Python 3 (ipykernel)",
   "language": "python",
   "name": "python3"
  },
  "language_info": {
   "codemirror_mode": {
    "name": "ipython",
    "version": 3
   },
   "file_extension": ".py",
   "mimetype": "text/x-python",
   "name": "python",
   "nbconvert_exporter": "python",
   "pygments_lexer": "ipython3",
   "version": "3.9.7"
  }
 },
 "nbformat": 4,
 "nbformat_minor": 5
}
